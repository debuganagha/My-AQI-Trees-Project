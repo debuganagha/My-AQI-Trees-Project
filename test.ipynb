{
 "cells": [
  {
   "cell_type": "code",
   "execution_count": null,
   "metadata": {
    "vscode": {
     "languageId": "plaintext"
    }
   },
   "outputs": [],
   "source": [
    "import geopandas as gpd\n",
    "import matplotlib.pyplot as plt\n",
    "\n",
    "# Remove rows with missing coordinates and species name for plotting\n",
    "tree_data_filtered = tree_data.dropna(subset=['longitude_coordinate', 'latitude_coordinate', 'common_name'])\n",
    "\n",
    "# Create a GeoDataFrame from the dataset\n",
    "geometry = gpd.points_from_xy(tree_data_filtered['longitude_coordinate'], tree_data_filtered['latitude_coordinate'])\n",
    "gdf = gpd.GeoDataFrame(tree_data_filtered, geometry=geometry)\n",
    "\n",
    "# Set up the plot\n",
    "fig, ax = plt.subplots(figsize=(12, 10))\n",
    "\n",
    "# Plotting each species with a unique marker\n",
    "# Geopandas does not support markers directly, so we use pandas unique values to iterate over species\n",
    "unique_species = tree_data_filtered['common_name'].unique()\n",
    "markers = ['o', '^', 's', 'P', '*', 'X', 'D']  # Define a set of markers for different species\n",
    "\n",
    "for i, species in enumerate(unique_species[:len(markers)]):  # Limit to number of available markers\n",
    "    species_gdf = gdf[gdf['common_name'] == species]\n",
    "    species_gdf.plot(ax=ax, marker=markers[i % len(markers)], label=species, markersize=5)\n",
    "\n",
    "# Customize the plot\n",
    "plt.legend(title=\"Tree Species\", loc=\"upper left\", bbox_to_anchor=(1, 1))\n",
    "plt.title(\"Tree Species Distribution in Washington, DC\")\n",
    "plt.xlabel(\"Longitude\")\n",
    "plt.ylabel(\"Latitude\")\n",
    "plt.show()\n"
   ]
  },
  {
   "cell_type": "code",
   "execution_count": null,
   "metadata": {
    "vscode": {
     "languageId": "plaintext"
    }
   },
   "outputs": [],
   "source": []
  }
 ],
 "metadata": {
  "language_info": {
   "name": "python"
  }
 },
 "nbformat": 4,
 "nbformat_minor": 2
}
