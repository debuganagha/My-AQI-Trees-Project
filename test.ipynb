{
 "cells": [
  {
   "cell_type": "code",
   "execution_count": 3,
   "metadata": {},
   "outputs": [
    {
     "ename": "NameError",
     "evalue": "name 'tree_data' is not defined",
     "output_type": "error",
     "traceback": [
      "\u001b[1;31m---------------------------------------------------------------------------\u001b[0m",
      "\u001b[1;31mNameError\u001b[0m                                 Traceback (most recent call last)",
      "Cell \u001b[1;32mIn[3], line 5\u001b[0m\n\u001b[0;32m      2\u001b[0m \u001b[38;5;28;01mimport\u001b[39;00m \u001b[38;5;21;01mmatplotlib\u001b[39;00m\u001b[38;5;21;01m.\u001b[39;00m\u001b[38;5;21;01mpyplot\u001b[39;00m \u001b[38;5;28;01mas\u001b[39;00m \u001b[38;5;21;01mplt\u001b[39;00m\n\u001b[0;32m      4\u001b[0m \u001b[38;5;66;03m# Remove rows with missing coordinates and species name for plotting\u001b[39;00m\n\u001b[1;32m----> 5\u001b[0m tree_data_filtered \u001b[38;5;241m=\u001b[39m \u001b[43mtree_data\u001b[49m\u001b[38;5;241m.\u001b[39mdropna(subset\u001b[38;5;241m=\u001b[39m[\u001b[38;5;124m'\u001b[39m\u001b[38;5;124mlongitude_coordinate\u001b[39m\u001b[38;5;124m'\u001b[39m, \u001b[38;5;124m'\u001b[39m\u001b[38;5;124mlatitude_coordinate\u001b[39m\u001b[38;5;124m'\u001b[39m, \u001b[38;5;124m'\u001b[39m\u001b[38;5;124mcommon_name\u001b[39m\u001b[38;5;124m'\u001b[39m])\n\u001b[0;32m      7\u001b[0m \u001b[38;5;66;03m# Create a GeoDataFrame from the dataset\u001b[39;00m\n\u001b[0;32m      8\u001b[0m geometry \u001b[38;5;241m=\u001b[39m gpd\u001b[38;5;241m.\u001b[39mpoints_from_xy(tree_data_filtered[\u001b[38;5;124m'\u001b[39m\u001b[38;5;124mlongitude_coordinate\u001b[39m\u001b[38;5;124m'\u001b[39m], tree_data_filtered[\u001b[38;5;124m'\u001b[39m\u001b[38;5;124mlatitude_coordinate\u001b[39m\u001b[38;5;124m'\u001b[39m])\n",
      "\u001b[1;31mNameError\u001b[0m: name 'tree_data' is not defined"
     ]
    }
   ],
   "source": [
    "import geopandas as gpd\n",
    "import matplotlib.pyplot as plt\n",
    "\n",
    "# Remove rows with missing coordinates and species name for plotting\n",
    "tree_data_filtered = tree_data.dropna(subset=['longitude_coordinate', 'latitude_coordinate', 'common_name'])\n",
    "\n",
    "# Create a GeoDataFrame from the dataset\n",
    "geometry = gpd.points_from_xy(tree_data_filtered['longitude_coordinate'], tree_data_filtered['latitude_coordinate'])\n",
    "gdf = gpd.GeoDataFrame(tree_data_filtered, geometry=geometry)\n",
    "\n",
    "# Set up the plot\n",
    "fig, ax = plt.subplots(figsize=(12, 10))\n",
    "\n",
    "# Plotting each species with a unique marker\n",
    "# Geopandas does not support markers directly, so we use pandas unique values to iterate over species\n",
    "unique_species = tree_data_filtered['common_name'].unique()\n",
    "markers = ['o', '^', 's', 'P', '*', 'X', 'D']  # Define a set of markers for different species\n",
    "\n",
    "for i, species in enumerate(unique_species[:len(markers)]):  # Limit to number of available markers\n",
    "    species_gdf = gdf[gdf['common_name'] == species]\n",
    "    species_gdf.plot(ax=ax, marker=markers[i % len(markers)], label=species, markersize=5)\n",
    "\n",
    "# Customize the plot\n",
    "plt.legend(title=\"Tree Species\", loc=\"upper left\", bbox_to_anchor=(1, 1))\n",
    "plt.title(\"Tree Species Distribution in Washington, DC\")\n",
    "plt.xlabel(\"Longitude\")\n",
    "plt.ylabel(\"Latitude\")\n",
    "plt.show()\n"
   ]
  },
  {
   "cell_type": "code",
   "execution_count": 2,
   "metadata": {},
   "outputs": [
    {
     "name": "stdout",
     "output_type": "stream",
     "text": [
      "Defaulting to user installation because normal site-packages is not writeable\n",
      "Collecting geopandas\n",
      "  Downloading geopandas-1.0.1-py3-none-any.whl.metadata (2.2 kB)\n",
      "Requirement already satisfied: numpy>=1.22 in c:\\users\\shiva\\appdata\\roaming\\python\\python312\\site-packages (from geopandas) (1.26.4)\n",
      "Collecting pyogrio>=0.7.2 (from geopandas)\n",
      "  Downloading pyogrio-0.10.0-cp312-cp312-win_amd64.whl.metadata (5.6 kB)\n",
      "Requirement already satisfied: packaging in c:\\users\\shiva\\appdata\\roaming\\python\\python312\\site-packages (from geopandas) (24.0)\n",
      "Requirement already satisfied: pandas>=1.4.0 in c:\\users\\shiva\\appdata\\roaming\\python\\python312\\site-packages (from geopandas) (2.2.3)\n",
      "Collecting pyproj>=3.3.0 (from geopandas)\n",
      "  Downloading pyproj-3.7.0-cp312-cp312-win_amd64.whl.metadata (31 kB)\n",
      "Collecting shapely>=2.0.0 (from geopandas)\n",
      "  Downloading shapely-2.0.6-cp312-cp312-win_amd64.whl.metadata (7.2 kB)\n",
      "Requirement already satisfied: python-dateutil>=2.8.2 in c:\\users\\shiva\\appdata\\roaming\\python\\python312\\site-packages (from pandas>=1.4.0->geopandas) (2.9.0.post0)\n",
      "Requirement already satisfied: pytz>=2020.1 in c:\\users\\shiva\\appdata\\roaming\\python\\python312\\site-packages (from pandas>=1.4.0->geopandas) (2024.1)\n",
      "Requirement already satisfied: tzdata>=2022.7 in c:\\users\\shiva\\appdata\\roaming\\python\\python312\\site-packages (from pandas>=1.4.0->geopandas) (2024.1)\n",
      "Requirement already satisfied: certifi in c:\\users\\shiva\\appdata\\roaming\\python\\python312\\site-packages (from pyogrio>=0.7.2->geopandas) (2024.8.30)\n",
      "Requirement already satisfied: six>=1.5 in c:\\users\\shiva\\appdata\\roaming\\python\\python312\\site-packages (from python-dateutil>=2.8.2->pandas>=1.4.0->geopandas) (1.16.0)\n",
      "Downloading geopandas-1.0.1-py3-none-any.whl (323 kB)\n",
      "   ---------------------------------------- 0.0/323.6 kB ? eta -:--:--\n",
      "   ---------- ----------------------------- 81.9/323.6 kB 2.3 MB/s eta 0:00:01\n",
      "   ---------------------------------------- 323.6/323.6 kB 5.0 MB/s eta 0:00:00\n",
      "Downloading pyogrio-0.10.0-cp312-cp312-win_amd64.whl (16.2 MB)\n",
      "   ---------------------------------------- 0.0/16.2 MB ? eta -:--:--\n",
      "   - -------------------------------------- 0.6/16.2 MB 17.8 MB/s eta 0:00:01\n",
      "   -- ------------------------------------- 1.0/16.2 MB 13.0 MB/s eta 0:00:02\n",
      "   --- ------------------------------------ 1.5/16.2 MB 12.0 MB/s eta 0:00:02\n",
      "   ---- ----------------------------------- 2.0/16.2 MB 11.5 MB/s eta 0:00:02\n",
      "   ----- ---------------------------------- 2.3/16.2 MB 10.2 MB/s eta 0:00:02\n",
      "   ------ --------------------------------- 2.5/16.2 MB 9.5 MB/s eta 0:00:02\n",
      "   ------- -------------------------------- 3.1/16.2 MB 9.9 MB/s eta 0:00:02\n",
      "   -------- ------------------------------- 3.6/16.2 MB 10.1 MB/s eta 0:00:02\n",
      "   ---------- ----------------------------- 4.3/16.2 MB 10.2 MB/s eta 0:00:02\n",
      "   ----------- ---------------------------- 4.7/16.2 MB 10.0 MB/s eta 0:00:02\n",
      "   ------------- -------------------------- 5.4/16.2 MB 10.4 MB/s eta 0:00:02\n",
      "   -------------- ------------------------- 5.9/16.2 MB 10.8 MB/s eta 0:00:01\n",
      "   ---------------- ----------------------- 6.6/16.2 MB 10.7 MB/s eta 0:00:01\n",
      "   ----------------- ---------------------- 7.0/16.2 MB 10.7 MB/s eta 0:00:01\n",
      "   ------------------ --------------------- 7.5/16.2 MB 10.6 MB/s eta 0:00:01\n",
      "   -------------------- ------------------- 8.1/16.2 MB 10.8 MB/s eta 0:00:01\n",
      "   --------------------- ------------------ 8.6/16.2 MB 10.7 MB/s eta 0:00:01\n",
      "   ---------------------- ----------------- 9.0/16.2 MB 10.8 MB/s eta 0:00:01\n",
      "   ----------------------- ---------------- 9.5/16.2 MB 10.8 MB/s eta 0:00:01\n",
      "   ------------------------ --------------- 10.1/16.2 MB 10.9 MB/s eta 0:00:01\n",
      "   -------------------------- ------------- 10.6/16.2 MB 10.9 MB/s eta 0:00:01\n",
      "   --------------------------- ------------ 11.0/16.2 MB 10.7 MB/s eta 0:00:01\n",
      "   ---------------------------- ----------- 11.7/16.2 MB 10.9 MB/s eta 0:00:01\n",
      "   ------------------------------ --------- 12.1/16.2 MB 10.9 MB/s eta 0:00:01\n",
      "   ------------------------------- -------- 12.8/16.2 MB 11.3 MB/s eta 0:00:01\n",
      "   -------------------------------- ------- 13.3/16.2 MB 11.5 MB/s eta 0:00:01\n",
      "   ---------------------------------- ----- 13.8/16.2 MB 11.3 MB/s eta 0:00:01\n",
      "   ----------------------------------- ---- 14.2/16.2 MB 11.3 MB/s eta 0:00:01\n",
      "   ------------------------------------ --- 14.7/16.2 MB 11.3 MB/s eta 0:00:01\n",
      "   ------------------------------------- -- 15.2/16.2 MB 11.3 MB/s eta 0:00:01\n",
      "   ---------------------------------------  15.8/16.2 MB 11.3 MB/s eta 0:00:01\n",
      "   ---------------------------------------  16.2/16.2 MB 11.5 MB/s eta 0:00:01\n",
      "   ---------------------------------------  16.2/16.2 MB 11.5 MB/s eta 0:00:01\n",
      "   ---------------------------------------- 16.2/16.2 MB 10.5 MB/s eta 0:00:00\n",
      "Downloading pyproj-3.7.0-cp312-cp312-win_amd64.whl (6.2 MB)\n",
      "   ---------------------------------------- 0.0/6.2 MB ? eta -:--:--\n",
      "   --- ------------------------------------ 0.5/6.2 MB 9.8 MB/s eta 0:00:01\n",
      "   ------ --------------------------------- 1.0/6.2 MB 10.5 MB/s eta 0:00:01\n",
      "   ---------- ----------------------------- 1.6/6.2 MB 10.0 MB/s eta 0:00:01\n",
      "   ------------- -------------------------- 2.2/6.2 MB 10.6 MB/s eta 0:00:01\n",
      "   ----------------- ---------------------- 2.7/6.2 MB 11.4 MB/s eta 0:00:01\n",
      "   -------------------- ------------------- 3.2/6.2 MB 11.3 MB/s eta 0:00:01\n",
      "   ------------------------ --------------- 3.8/6.2 MB 11.5 MB/s eta 0:00:01\n",
      "   --------------------------- ------------ 4.3/6.2 MB 11.4 MB/s eta 0:00:01\n",
      "   ------------------------------- -------- 4.9/6.2 MB 11.3 MB/s eta 0:00:01\n",
      "   ---------------------------------- ----- 5.4/6.2 MB 11.6 MB/s eta 0:00:01\n",
      "   ---------------------------------------  6.1/6.2 MB 11.4 MB/s eta 0:00:01\n",
      "   ---------------------------------------- 6.2/6.2 MB 11.1 MB/s eta 0:00:00\n",
      "Downloading shapely-2.0.6-cp312-cp312-win_amd64.whl (1.4 MB)\n",
      "   ---------------------------------------- 0.0/1.4 MB ? eta -:--:--\n",
      "   ----------- ---------------------------- 0.4/1.4 MB 12.5 MB/s eta 0:00:01\n",
      "   ----------------------- ---------------- 0.8/1.4 MB 10.5 MB/s eta 0:00:01\n",
      "   ---------------------------------------  1.4/1.4 MB 12.9 MB/s eta 0:00:01\n",
      "   ---------------------------------------- 1.4/1.4 MB 11.5 MB/s eta 0:00:00\n",
      "Installing collected packages: shapely, pyproj, pyogrio, geopandas\n",
      "Successfully installed geopandas-1.0.1 pyogrio-0.10.0 pyproj-3.7.0 shapely-2.0.6\n",
      "Note: you may need to restart the kernel to use updated packages.\n"
     ]
    },
    {
     "name": "stderr",
     "output_type": "stream",
     "text": [
      "\n",
      "[notice] A new release of pip is available: 24.0 -> 24.2\n",
      "[notice] To update, run: python.exe -m pip install --upgrade pip\n"
     ]
    }
   ],
   "source": [
    "pip install geopandas"
   ]
  }
 ],
 "metadata": {
  "kernelspec": {
   "display_name": "Python 3",
   "language": "python",
   "name": "python3"
  },
  "language_info": {
   "codemirror_mode": {
    "name": "ipython",
    "version": 3
   },
   "file_extension": ".py",
   "mimetype": "text/x-python",
   "name": "python",
   "nbconvert_exporter": "python",
   "pygments_lexer": "ipython3",
   "version": "3.12.3"
  }
 },
 "nbformat": 4,
 "nbformat_minor": 2
}
