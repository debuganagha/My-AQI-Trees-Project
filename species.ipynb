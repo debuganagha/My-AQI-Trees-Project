{
 "cells": [
  {
   "cell_type": "code",
   "execution_count": 29,
   "metadata": {},
   "outputs": [],
   "source": [
    "import pandas as pd"
   ]
  },
  {
   "cell_type": "code",
   "execution_count": 30,
   "metadata": {},
   "outputs": [],
   "source": [
    "bioclimatic_data = pd.read_csv('PA-train-bioclimatic.csv')\n",
    "merged_data = pd.read_csv('cluster_with_pollution_data.csv')"
   ]
  },
  {
   "cell_type": "code",
   "execution_count": 31,
   "metadata": {},
   "outputs": [
    {
     "name": "stdout",
     "output_type": "stream",
     "text": [
      "Index(['surveyId', 'Bio1', 'Bio2', 'Bio3', 'Bio4', 'Bio5', 'Bio6', 'Bio7',\n",
      "       'Bio8', 'Bio9', 'Bio10', 'Bio11', 'Bio12', 'Bio13', 'Bio14', 'Bio15',\n",
      "       'Bio16', 'Bio17', 'Bio18', 'Bio19'],\n",
      "      dtype='object')\n"
     ]
    }
   ],
   "source": [
    "print(bioclimatic_data.columns)"
   ]
  },
  {
   "cell_type": "markdown",
   "metadata": {},
   "source": [
    "# Particle Swarm Optimization"
   ]
  },
  {
   "cell_type": "code",
   "execution_count": 37,
   "metadata": {},
   "outputs": [
    {
     "name": "stdout",
     "output_type": "stream",
     "text": [
      "Selected species IDs: [6874]\n",
      "Stopping search: maximum iterations reached --> 100\n",
      "Recommended Cluster: 4044, Score: 1e+100\n"
     ]
    },
    {
     "name": "stderr",
     "output_type": "stream",
     "text": [
      "C:\\Users\\anagh\\AppData\\Local\\Temp\\ipykernel_24040\\1861477956.py:42: DeprecationWarning: Conversion of an array with ndim > 0 to a scalar is deprecated, and will error in future. Ensure you extract a single element from your array before performing this operation. (Deprecated NumPy 1.25.)\n",
      "  return int(best_cluster), float(best_score)  # Return as scalar values\n"
     ]
    }
   ],
   "source": [
    "import geopandas as gpd\n",
    "import matplotlib.pyplot as plt\n",
    "import numpy as np\n",
    "from pyswarm import pso\n",
    "import random\n",
    "from scipy.spatial import ConvexHull\n",
    "\n",
    "# Set random seed for reproducibility\n",
    "random.seed(42)\n",
    "np.random.seed(42)\n",
    "\n",
    "# Define a function to calculate the fitness of a cluster\n",
    "def fitness_function(cluster, merged_data, bioclimatic_data):\n",
    "    # Extract relevant pollution data for the cluster\n",
    "    cluster_data = merged_data[merged_data['cluster'] == cluster]\n",
    "    \n",
    "    # Calculate a score based on AQI and other pollutants (lower is better)\n",
    "    score = 0\n",
    "    if not cluster_data.empty:\n",
    "        score += cluster_data['AQI'].mean() * 0.4  # Weight for AQI\n",
    "        score += cluster_data['CO'].mean() * 0.2   # Weight for CO\n",
    "        score += cluster_data['NO2'].mean() * 0.2  # Weight for NO2\n",
    "        score += cluster_data['PM2.5'].mean() * 0.2 # Weight for PM2.5\n",
    "        \n",
    "        # Add bioclimatic variable (e.g., Bio1)\n",
    "        survey_id = cluster_data['surveyId'].values[0]  # Get the surveyId from the first entry\n",
    "        bio1_mean = bioclimatic_data[bioclimatic_data['surveyId'] == survey_id]['Bio1'].mean()\n",
    "        score += bio1_mean * 0.1  # Weight for Bio1\n",
    "    \n",
    "    return score\n",
    "\n",
    "# PSO function to optimize cluster selection\n",
    "def optimize_clusters(merged_data, bioclimatic_data):\n",
    "    lb = [0]  # Lower boundary\n",
    "    ub = [merged_data['cluster'].nunique() - 1]  # Upper boundary\n",
    "\n",
    "    def objective_function(x):\n",
    "        return fitness_function(int(x[0]), merged_data, bioclimatic_data)\n",
    "\n",
    "    best_cluster, best_score = pso(objective_function, lb, ub)\n",
    "\n",
    "    return int(best_cluster), float(best_score)  # Return as scalar values\n",
    "\n",
    "# Function to plot only the recommended cluster with all its coordinates\n",
    "import ast  # To safely evaluate the string as a Python expression\n",
    "\n",
    "# Main function to run the optimization process and plotting\n",
    "def main(merged_data, bioclimatic_data):\n",
    "    user_input = input(\"Enter species IDs separated by commas: \")\n",
    "    species_ids = [int(id.strip()) for id in user_input.split(',')]\n",
    "    \n",
    "    print(f\"Selected species IDs: {species_ids}\")\n",
    "\n",
    "    # Optimize clusters based on selected species (currently not filtering by species; you can add this logic)\n",
    "    recommended_cluster, score = optimize_clusters(merged_data, bioclimatic_data)\n",
    "    \n",
    "    print(f\"Recommended Cluster: {recommended_cluster}, Score: {score}\")\n",
    "\n",
    "# Example usage with your existing dataframes (replace with your actual data)\n",
    "if __name__ == \"__main__\":\n",
    "    main(merged_data, bioclimatic_data)"
   ]
  }
 ],
 "metadata": {
  "kernelspec": {
   "display_name": "Python 3",
   "language": "python",
   "name": "python3"
  },
  "language_info": {
   "codemirror_mode": {
    "name": "ipython",
    "version": 3
   },
   "file_extension": ".py",
   "mimetype": "text/x-python",
   "name": "python",
   "nbconvert_exporter": "python",
   "pygments_lexer": "ipython3",
   "version": "3.12.4"
  }
 },
 "nbformat": 4,
 "nbformat_minor": 2
}
