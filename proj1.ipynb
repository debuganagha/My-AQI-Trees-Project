{
 "cells": [
  {
   "cell_type": "code",
   "execution_count": 2,
   "metadata": {},
   "outputs": [],
   "source": [
    "# OpenWeatherMap API credentials\n",
    "api_key = \"00e8e808c9ee63e1a6848d838daabe6d\""
   ]
  },
  {
   "cell_type": "code",
   "execution_count": 3,
   "metadata": {},
   "outputs": [],
   "source": [
    "import requests\n",
    "import pandas as pd\n",
    "\n",
    "# Load your dataset (replace 'your_dataset.csv' with your actual file)\n",
    "df = pd.read_csv('WashingtonDC_Final_2022-06-18.csv')"
   ]
  },
  {
   "cell_type": "code",
   "execution_count": 3,
   "metadata": {},
   "outputs": [],
   "source": [
    "    # Function to get all air pollution components from OpenWeatherMap for given lat and lon\n",
    "def get_air_pollution_data(lat, lon):\n",
    "        url = f\"http://api.openweathermap.org/data/2.5/air_pollution?lat={lat}&lon={lon}&appid={api_key}\"\n",
    "        \n",
    "        # Make the API request\n",
    "        response = requests.get(url)\n",
    "        \n",
    "        if response.status_code == 200:\n",
    "            data = response.json()  # Parse the response to JSON\n",
    "            main_aqi = data['list'][0]['main']['aqi']  # AQI value\n",
    "            \n",
    "            components = data['list'][0]['components']  # All pollutant components\n",
    "            co2 = components.get('co2', None)\n",
    "            co = components.get('co', None)       # Carbon Monoxide\n",
    "            no = components.get('no', None)       # Nitric Oxide\n",
    "            no2 = components.get('no2', None)     # Nitrogen Dioxide\n",
    "            o3 = components.get('o3', None)       # Ozone\n",
    "            so2 = components.get('so2', None)     # Sulfur Dioxide\n",
    "            pm25 = components.get('pm2_5', None)  # Fine Particulate Matter (PM2.5)\n",
    "            pm10 = components.get('pm10', None)   # Coarse Particulate Matter (PM10)\n",
    "            nh3 = components.get('nh3', None)     # Ammonia\n",
    "\n",
    "            return main_aqi, co2, co, no, no2, o3, so2, pm25, pm10, nh3\n",
    "        \n",
    "        else:\n",
    "            return [None] * 9  # Return None for all fields if the request fails\n",
    "\n",
    "    # Applying the function to each row in the dataset\n",
    "    df[['AQI', 'CO2', 'CO', 'NO', 'NO2', 'O3', 'SO2', 'PM2.5', 'PM10', 'NH3']] = pd.DataFrame(\n",
    "        df.apply(lambda row: get_air_pollution_data(row['latitude_coordinate'], row['longitude_coordinate']), axis=1).tolist()\n",
    "    )\n",
    "\n",
    "    # units of all data is µg/m³"
   ]
  },
  {
   "cell_type": "code",
   "execution_count": 4,
   "metadata": {},
   "outputs": [
    {
     "name": "stdout",
     "output_type": "stream",
     "text": [
      "AQI data added successfully!\n"
     ]
    }
   ],
   "source": [
    "# Save the updated DataFrame to a new CSV file\n",
    "df.to_csv('dataset_with_aqi.csv', index=False)\n",
    "\n",
    "print(\"AQI data added successfully!\")"
   ]
  }
 ],
 "metadata": {
  "kernelspec": {
   "display_name": "Python 3",
   "language": "python",
   "name": "python3"
  },
  "language_info": {
   "codemirror_mode": {
    "name": "ipython",
    "version": 3
   },
   "file_extension": ".py",
   "mimetype": "text/x-python",
   "name": "python",
   "nbconvert_exporter": "python",
   "pygments_lexer": "ipython3",
   "version": "3.12.4"
  }
 },
 "nbformat": 4,
 "nbformat_minor": 2
}
