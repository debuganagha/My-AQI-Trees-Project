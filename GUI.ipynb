{
 "cells": [
  {
   "cell_type": "code",
   "execution_count": 1,
   "metadata": {},
   "outputs": [
    {
     "name": "stdout",
     "output_type": "stream",
     "text": [
      "Defaulting to user installation because normal site-packages is not writeableNote: you may need to restart the kernel to use updated packages.\n",
      "\n",
      "Requirement already satisfied: pandas in c:\\users\\shiva\\appdata\\roaming\\python\\python312\\site-packages (2.2.3)\n",
      "Requirement already satisfied: numpy in c:\\users\\shiva\\appdata\\roaming\\python\\python312\\site-packages (1.26.4)\n",
      "Requirement already satisfied: ahpy in c:\\users\\shiva\\appdata\\roaming\\python\\python312\\site-packages (2.0)\n",
      "Requirement already satisfied: scikit-learn in c:\\users\\shiva\\appdata\\roaming\\python\\python312\\site-packages (1.5.2)\n",
      "Requirement already satisfied: geopy in c:\\users\\shiva\\appdata\\roaming\\python\\python312\\site-packages (2.4.1)\n",
      "Requirement already satisfied: matplotlib in c:\\users\\shiva\\appdata\\roaming\\python\\python312\\site-packages (3.8.4)\n",
      "Collecting ipywidgets\n",
      "  Downloading ipywidgets-8.1.5-py3-none-any.whl.metadata (2.3 kB)\n",
      "Requirement already satisfied: python-dateutil>=2.8.2 in c:\\users\\shiva\\appdata\\roaming\\python\\python312\\site-packages (from pandas) (2.9.0.post0)\n",
      "Requirement already satisfied: pytz>=2020.1 in c:\\users\\shiva\\appdata\\roaming\\python\\python312\\site-packages (from pandas) (2024.1)\n",
      "Requirement already satisfied: tzdata>=2022.7 in c:\\users\\shiva\\appdata\\roaming\\python\\python312\\site-packages (from pandas) (2024.1)\n",
      "Requirement already satisfied: scipy in c:\\users\\shiva\\appdata\\roaming\\python\\python312\\site-packages (from ahpy) (1.13.0)\n",
      "Requirement already satisfied: joblib>=1.2.0 in c:\\users\\shiva\\appdata\\roaming\\python\\python312\\site-packages (from scikit-learn) (1.4.2)\n",
      "Requirement already satisfied: threadpoolctl>=3.1.0 in c:\\users\\shiva\\appdata\\roaming\\python\\python312\\site-packages (from scikit-learn) (3.5.0)\n",
      "Requirement already satisfied: geographiclib<3,>=1.52 in c:\\users\\shiva\\appdata\\roaming\\python\\python312\\site-packages (from geopy) (2.0)\n",
      "Requirement already satisfied: contourpy>=1.0.1 in c:\\users\\shiva\\appdata\\roaming\\python\\python312\\site-packages (from matplotlib) (1.2.1)\n",
      "Requirement already satisfied: cycler>=0.10 in c:\\users\\shiva\\appdata\\roaming\\python\\python312\\site-packages (from matplotlib) (0.12.1)\n",
      "Requirement already satisfied: fonttools>=4.22.0 in c:\\users\\shiva\\appdata\\roaming\\python\\python312\\site-packages (from matplotlib) (4.51.0)\n",
      "Requirement already satisfied: kiwisolver>=1.3.1 in c:\\users\\shiva\\appdata\\roaming\\python\\python312\\site-packages (from matplotlib) (1.4.5)\n",
      "Requirement already satisfied: packaging>=20.0 in c:\\users\\shiva\\appdata\\roaming\\python\\python312\\site-packages (from matplotlib) (24.0)\n",
      "Requirement already satisfied: pillow>=8 in c:\\users\\shiva\\appdata\\roaming\\python\\python312\\site-packages (from matplotlib) (10.3.0)\n",
      "Requirement already satisfied: pyparsing>=2.3.1 in c:\\users\\shiva\\appdata\\roaming\\python\\python312\\site-packages (from matplotlib) (3.1.2)\n",
      "Requirement already satisfied: comm>=0.1.3 in c:\\users\\shiva\\appdata\\roaming\\python\\python312\\site-packages (from ipywidgets) (0.2.2)\n",
      "Requirement already satisfied: ipython>=6.1.0 in c:\\users\\shiva\\appdata\\roaming\\python\\python312\\site-packages (from ipywidgets) (8.26.0)\n",
      "Requirement already satisfied: traitlets>=4.3.1 in c:\\users\\shiva\\appdata\\roaming\\python\\python312\\site-packages (from ipywidgets) (5.14.3)\n",
      "Collecting widgetsnbextension~=4.0.12 (from ipywidgets)\n",
      "  Downloading widgetsnbextension-4.0.13-py3-none-any.whl.metadata (1.6 kB)\n",
      "Collecting jupyterlab-widgets~=3.0.12 (from ipywidgets)\n",
      "  Downloading jupyterlab_widgets-3.0.13-py3-none-any.whl.metadata (4.1 kB)\n",
      "Requirement already satisfied: decorator in c:\\users\\shiva\\appdata\\roaming\\python\\python312\\site-packages (from ipython>=6.1.0->ipywidgets) (5.1.1)\n",
      "Requirement already satisfied: jedi>=0.16 in c:\\users\\shiva\\appdata\\roaming\\python\\python312\\site-packages (from ipython>=6.1.0->ipywidgets) (0.19.1)\n",
      "Requirement already satisfied: matplotlib-inline in c:\\users\\shiva\\appdata\\roaming\\python\\python312\\site-packages (from ipython>=6.1.0->ipywidgets) (0.1.7)\n",
      "Requirement already satisfied: prompt-toolkit<3.1.0,>=3.0.41 in c:\\users\\shiva\\appdata\\roaming\\python\\python312\\site-packages (from ipython>=6.1.0->ipywidgets) (3.0.47)\n",
      "Requirement already satisfied: pygments>=2.4.0 in c:\\users\\shiva\\appdata\\roaming\\python\\python312\\site-packages (from ipython>=6.1.0->ipywidgets) (2.18.0)\n",
      "Requirement already satisfied: stack-data in c:\\users\\shiva\\appdata\\roaming\\python\\python312\\site-packages (from ipython>=6.1.0->ipywidgets) (0.6.3)\n",
      "Requirement already satisfied: colorama in c:\\users\\shiva\\appdata\\roaming\\python\\python312\\site-packages (from ipython>=6.1.0->ipywidgets) (0.4.6)\n",
      "Requirement already satisfied: six>=1.5 in c:\\users\\shiva\\appdata\\roaming\\python\\python312\\site-packages (from python-dateutil>=2.8.2->pandas) (1.16.0)\n",
      "Requirement already satisfied: parso<0.9.0,>=0.8.3 in c:\\users\\shiva\\appdata\\roaming\\python\\python312\\site-packages (from jedi>=0.16->ipython>=6.1.0->ipywidgets) (0.8.4)\n",
      "Requirement already satisfied: wcwidth in c:\\users\\shiva\\appdata\\roaming\\python\\python312\\site-packages (from prompt-toolkit<3.1.0,>=3.0.41->ipython>=6.1.0->ipywidgets) (0.2.13)\n",
      "Requirement already satisfied: executing>=1.2.0 in c:\\users\\shiva\\appdata\\roaming\\python\\python312\\site-packages (from stack-data->ipython>=6.1.0->ipywidgets) (2.0.1)\n",
      "Requirement already satisfied: asttokens>=2.1.0 in c:\\users\\shiva\\appdata\\roaming\\python\\python312\\site-packages (from stack-data->ipython>=6.1.0->ipywidgets) (2.4.1)\n",
      "Requirement already satisfied: pure-eval in c:\\users\\shiva\\appdata\\roaming\\python\\python312\\site-packages (from stack-data->ipython>=6.1.0->ipywidgets) (0.2.2)\n",
      "Downloading ipywidgets-8.1.5-py3-none-any.whl (139 kB)\n",
      "   ---------------------------------------- 0.0/139.8 kB ? eta -:--:--\n",
      "   -------- ------------------------------- 30.7/139.8 kB 1.4 MB/s eta 0:00:01\n",
      "   ----------------- ---------------------- 61.4/139.8 kB 1.7 MB/s eta 0:00:01\n",
      "   -------------------------------- ------- 112.6/139.8 kB 1.1 MB/s eta 0:00:01\n",
      "   -------------------------------- ------- 112.6/139.8 kB 1.1 MB/s eta 0:00:01\n",
      "   -------------------------------- ------- 112.6/139.8 kB 1.1 MB/s eta 0:00:01\n",
      "   -------------------------------------- 139.8/139.8 kB 591.4 kB/s eta 0:00:00\n",
      "Downloading jupyterlab_widgets-3.0.13-py3-none-any.whl (214 kB)\n",
      "   ---------------------------------------- 0.0/214.4 kB ? eta -:--:--\n",
      "   ----------------- ---------------------- 92.2/214.4 kB 2.6 MB/s eta 0:00:01\n",
      "   ---------------------------------------- 214.4/214.4 kB 2.6 MB/s eta 0:00:00\n",
      "Downloading widgetsnbextension-4.0.13-py3-none-any.whl (2.3 MB)\n",
      "   ---------------------------------------- 0.0/2.3 MB ? eta -:--:--\n",
      "   -- ------------------------------------- 0.2/2.3 MB 3.5 MB/s eta 0:00:01\n",
      "   ---- ----------------------------------- 0.3/2.3 MB 4.1 MB/s eta 0:00:01\n",
      "   -------- ------------------------------- 0.5/2.3 MB 3.6 MB/s eta 0:00:01\n",
      "   ------------- -------------------------- 0.8/2.3 MB 4.6 MB/s eta 0:00:01\n",
      "   ------------------ --------------------- 1.1/2.3 MB 4.9 MB/s eta 0:00:01\n",
      "   ---------------------- ----------------- 1.3/2.3 MB 4.9 MB/s eta 0:00:01\n",
      "   ------------------------- -------------- 1.5/2.3 MB 4.7 MB/s eta 0:00:01\n",
      "   -------------------------------- ------- 1.9/2.3 MB 5.0 MB/s eta 0:00:01\n",
      "   ------------------------------------ --- 2.2/2.3 MB 5.1 MB/s eta 0:00:01\n",
      "   ---------------------------------------- 2.3/2.3 MB 5.1 MB/s eta 0:00:00\n",
      "Installing collected packages: widgetsnbextension, jupyterlab-widgets, ipywidgets\n",
      "Successfully installed ipywidgets-8.1.5 jupyterlab-widgets-3.0.13 widgetsnbextension-4.0.13\n"
     ]
    },
    {
     "name": "stderr",
     "output_type": "stream",
     "text": [
      "\n",
      "[notice] A new release of pip is available: 24.0 -> 24.3.1\n",
      "[notice] To update, run: python.exe -m pip install --upgrade pip\n"
     ]
    }
   ],
   "source": [
    "pip install pandas numpy ahpy scikit-learn geopy matplotlib ipywidgets\n"
   ]
  },
  {
   "cell_type": "code",
   "execution_count": 1,
   "metadata": {},
   "outputs": [
    {
     "data": {
      "application/vnd.jupyter.widget-view+json": {
       "model_id": "b09e9d8c169b4f69ad3e508beda33709",
       "version_major": 2,
       "version_minor": 0
      },
      "text/plain": [
       "FloatText(value=0.0, description='Latitude:')"
      ]
     },
     "metadata": {},
     "output_type": "display_data"
    },
    {
     "data": {
      "application/vnd.jupyter.widget-view+json": {
       "model_id": "092149a1692542868c8fae38845beda4",
       "version_major": 2,
       "version_minor": 0
      },
      "text/plain": [
       "FloatText(value=0.0, description='Longitude:')"
      ]
     },
     "metadata": {},
     "output_type": "display_data"
    },
    {
     "data": {
      "application/vnd.jupyter.widget-view+json": {
       "model_id": "fa6ee2f39fef479aa4dc9d7a8c8ab470",
       "version_major": 2,
       "version_minor": 0
      },
      "text/plain": [
       "FloatText(value=0.0, description='Radius (km):')"
      ]
     },
     "metadata": {},
     "output_type": "display_data"
    },
    {
     "data": {
      "application/vnd.jupyter.widget-view+json": {
       "model_id": "84912cbe6f964b0bbbf5129a81723486",
       "version_major": 2,
       "version_minor": 0
      },
      "text/plain": [
       "IntText(value=0, description='Species ID:')"
      ]
     },
     "metadata": {},
     "output_type": "display_data"
    },
    {
     "data": {
      "application/vnd.jupyter.widget-view+json": {
       "model_id": "872a820fa21a447386c786f7508b29f4",
       "version_major": 2,
       "version_minor": 0
      },
      "text/plain": [
       "Button(description='Run Removal Analysis', style=ButtonStyle())"
      ]
     },
     "metadata": {},
     "output_type": "display_data"
    },
    {
     "data": {
      "application/vnd.jupyter.widget-view+json": {
       "model_id": "abab2dc37ea84b76bbf24838ba03664a",
       "version_major": 2,
       "version_minor": 0
      },
      "text/plain": [
       "Output()"
      ]
     },
     "metadata": {},
     "output_type": "display_data"
    }
   ],
   "source": [
    "import pandas as pd\n",
    "import numpy as np\n",
    "import ast\n",
    "import matplotlib.pyplot as plt\n",
    "from ahpy import Compare\n",
    "from sklearn.preprocessing import MinMaxScaler\n",
    "from geopy.distance import geodesic\n",
    "import ipywidgets as widgets\n",
    "from IPython.display import display, clear_output\n",
    "\n",
    "# Load and preprocess data\n",
    "def load_data():\n",
    "    merged_data = pd.read_csv('cluster_with_pollution_data.csv')\n",
    "    merged_data['coordinates_lon'] = merged_data['coordinates_lon'].apply(ast.literal_eval)\n",
    "    merged_data['coordinates_lat'] = merged_data['coordinates_lat'].apply(ast.literal_eval)\n",
    "    merged_data['speciesId'] = merged_data['speciesId'].apply(ast.literal_eval)\n",
    "    return merged_data\n",
    "\n",
    "# AHP - Assign Weights\n",
    "def calculate_ahp_weights():\n",
    "    criteria = {\n",
    "        ('AQI_Impact', 'Species_Importance'): 3,\n",
    "        ('AQI_Impact', 'Tree_Density'): 5,\n",
    "        ('Species_Importance', 'Tree_Density'): 4,\n",
    "    }\n",
    "    comparison = Compare('Criteria', criteria, precision=3)\n",
    "    weights = comparison.target_weights\n",
    "    return weights\n",
    "\n",
    "# Calculate distance functions\n",
    "def calculate_distance_to_urban(row):\n",
    "    urban_location = (42.0, -0.5)\n",
    "    return geodesic((row['average_lat'], row['average_lon']), urban_location).km\n",
    "\n",
    "def calculate_distance_to_water(row):\n",
    "    water_location = (42.2, -0.7)\n",
    "    return geodesic((row['average_lat'], row['average_lon']), water_location).km\n",
    "\n",
    "# Filter trees based on location and radius\n",
    "def filter_trees_by_location(df, input_coords, radius_km):\n",
    "    df['distance_to_input'] = df.apply(\n",
    "        lambda row: geodesic((row['average_lat'], row['average_lon']), input_coords).km, axis=1\n",
    "    )\n",
    "    return df[df['distance_to_input'] <= radius_km]\n",
    "\n",
    "# Calculate criteria and run TOPSIS ranking\n",
    "def calculate_criteria_and_rank(df, weights):\n",
    "    scaler = MinMaxScaler()\n",
    "    criteria_data = df[['AQI_Impact', 'Species_Importance', 'Tree_Density']]\n",
    "    normalized_data = scaler.fit_transform(criteria_data)\n",
    "    weighted_data = normalized_data * np.array(list(weights.values()))\n",
    "    ideal_solution = np.max(weighted_data, axis=0)\n",
    "    negative_ideal_solution = np.min(weighted_data, axis=0)\n",
    "    dist_to_ideal = np.sqrt(np.sum((weighted_data - ideal_solution) ** 2, axis=1))\n",
    "    dist_to_negative_ideal = np.sqrt(np.sum((weighted_data - negative_ideal_solution) ** 2, axis=1))\n",
    "    df['TOPSIS_Score'] = dist_to_negative_ideal / (dist_to_ideal + dist_to_negative_ideal)\n",
    "    df = df.sort_values(by='TOPSIS_Score', ascending=False)\n",
    "    return df\n",
    "\n",
    "# GUI Components\n",
    "latitude_widget = widgets.FloatText(description=\"Latitude:\")\n",
    "longitude_widget = widgets.FloatText(description=\"Longitude:\")\n",
    "radius_widget = widgets.FloatText(description=\"Radius (km):\")\n",
    "species_id_widget = widgets.IntText(description=\"Species ID:\")\n",
    "remove_button = widgets.Button(description=\"Run Removal Analysis\")\n",
    "output = widgets.Output()\n",
    "\n",
    "# Display Plots\n",
    "def plot_all_trees(df, title=\"Tree Locations\"):\n",
    "    plt.figure(figsize=(10, 10))\n",
    "    plt.scatter(df['average_lon'], df['average_lat'], c='gray', s=10, label='All Trees')\n",
    "    plt.xlabel(\"Longitude\")\n",
    "    plt.ylabel(\"Latitude\")\n",
    "    plt.title(title)\n",
    "    plt.legend()\n",
    "    plt.grid(True)\n",
    "    plt.show()\n",
    "\n",
    "# Button Callback\n",
    "def on_run_button_clicked(b):\n",
    "    with output:\n",
    "        clear_output()\n",
    "        print(\"Processing data...\")\n",
    "\n",
    "        # Load data and apply filtering\n",
    "        merged_data = load_data()\n",
    "        input_coords = (latitude_widget.value, longitude_widget.value)\n",
    "        radius_km = radius_widget.value\n",
    "        \n",
    "        filtered_trees = filter_trees_by_location(merged_data, input_coords, radius_km)\n",
    "        if filtered_trees.empty:\n",
    "            print(\"No trees found within the specified radius.\")\n",
    "            return\n",
    "        \n",
    "        # Plot all trees in the selected area\n",
    "        plot_all_trees(filtered_trees, title=\"Filtered Trees in Selected Area\")\n",
    "        \n",
    "        # Calculate weights and perform AHP + TOPSIS Ranking\n",
    "        weights = calculate_ahp_weights()\n",
    "        ranked_trees = calculate_criteria_and_rank(filtered_trees, weights)\n",
    "        \n",
    "        # Display ranked trees for removal\n",
    "        print(\"Top-ranked trees for removal based on AHP and TOPSIS:\")\n",
    "        display(ranked_trees[['speciesId', 'average_lon', 'average_lat', 'TOPSIS_Score']].head(10))\n",
    "        \n",
    "        # Highlight trees to remove on the map\n",
    "        trees_to_remove = ranked_trees.head(10)\n",
    "        plt.figure(figsize=(10, 10))\n",
    "        plt.scatter(filtered_trees['average_lon'], filtered_trees['average_lat'], c='lightgray', s=10, label='Filtered Trees')\n",
    "        plt.scatter(trees_to_remove['average_lon'], trees_to_remove['average_lat'], c='red', s=30, label='Trees for Removal')\n",
    "        plt.xlabel(\"Longitude\")\n",
    "        plt.ylabel(\"Latitude\")\n",
    "        plt.title(\"Trees Marked for Removal in Selected Area\")\n",
    "        plt.legend()\n",
    "        plt.grid(True)\n",
    "        plt.show()\n",
    "\n",
    "remove_button.on_click(on_run_button_clicked)\n",
    "\n",
    "# Display Widgets\n",
    "display(latitude_widget, longitude_widget, radius_widget, species_id_widget, remove_button, output)\n"
   ]
  }
 ],
 "metadata": {
  "kernelspec": {
   "display_name": "Python 3",
   "language": "python",
   "name": "python3"
  },
  "language_info": {
   "codemirror_mode": {
    "name": "ipython",
    "version": 3
   },
   "file_extension": ".py",
   "mimetype": "text/x-python",
   "name": "python",
   "nbconvert_exporter": "python",
   "pygments_lexer": "ipython3",
   "version": "3.12.3"
  }
 },
 "nbformat": 4,
 "nbformat_minor": 2
}
